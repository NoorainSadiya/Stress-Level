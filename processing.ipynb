{
 "cells": [
  {
   "cell_type": "code",
   "execution_count": 1,
   "id": "2c647c60-2299-4d35-a028-b45c7fdbb17c",
   "metadata": {},
   "outputs": [],
   "source": [
    "import os\n",
    "import numpy as np\n",
    "import pandas as pd"
   ]
  },
  {
   "cell_type": "code",
   "execution_count": 2,
   "id": "1940f31b-c90d-4551-8e43-5d189b38a43d",
   "metadata": {
    "scrolled": true
   },
   "outputs": [],
   "source": [
    "import json\n",
    "from datetime import datetime\n",
    "\n",
    "stress_path = '../MentalHealth/dataset/dataset/EMA/response/Stress/'\n",
    "stress = []\n",
    "\n",
    "for user_file in os.listdir(stress_path):\n",
    "    if not user_file.endswith('.json'):\n",
    "        continue\n",
    "\n",
    "    uid = user_file.split('_')[1].split('.')[0]\n",
    "    with open(os.path.join(stress_path, user_file), 'r') as f:\n",
    "        data = json.load(f)\n",
    "\n",
    "    for entry in data:\n",
    "        if 'level' in entry and 'resp_time' in entry:\n",
    "            score = int(entry['level'])\n",
    "            time = int(entry['resp_time'])\n",
    "            date = datetime.fromtimestamp(time).date()\n",
    "\n",
    "            stress.append({\n",
    "                'uid': uid, \n",
    "                'stress_level': score, \n",
    "                'time': time, \n",
    "                'date': date\n",
    "            })\n",
    "\n",
    "df_stress = pd.DataFrame(stress)\n",
    "df_stress = df_stress.sort_values('uid').reset_index(drop=True)"
   ]
  },
  {
   "cell_type": "code",
   "execution_count": 3,
   "id": "1358d300-df8c-4d42-ac8d-214d4db7d30f",
   "metadata": {
    "scrolled": true
   },
   "outputs": [],
   "source": [
    "from datetime import timedelta\n",
    "\n",
    "pl_path = '../MentalHealth/dataset/dataset/sensing/phonelock'\n",
    "pl_daily = []   \n",
    "\n",
    "for uid in df_stress['uid'].unique():\n",
    "    f = f\"{pl_path}/phonelock_{uid}.csv\"\n",
    "    if not os.path.exists(f):\n",
    "        continue\n",
    "\n",
    "    df = pd.read_csv(f)\n",
    "    df['uid'] = uid\n",
    "    df['start'] = pd.to_datetime(df['start'], unit='s')\n",
    "    df['end']   = pd.to_datetime(df['end'],   unit='s')\n",
    "    df['duration_min'] = (df['end'] - df['start']).dt.total_seconds() / 60\n",
    "    df['date']  = df['start'].dt.date\n",
    "    df['hour']  = df['start'].dt.hour\n",
    "    df['night'] = df['hour'].between(23, 23) | df['hour'].between(0, 5)\n",
    "\n",
    "    daily = (\n",
    "        df.groupby(['uid', 'date'])\n",
    "          .agg(total_unlocks   = ('duration_min', 'size'),\n",
    "               total_scr_time  = ('duration_min', 'sum'),\n",
    "               avg_scr_time    = ('duration_min', 'mean'),\n",
    "               night_unlocks   = ('night', 'sum'))\n",
    "          .reset_index()\n",
    "    )\n",
    "    pl_daily.append(daily)\n",
    "\n",
    "df_pl = pd.concat(pl_daily, ignore_index=True)"
   ]
  },
  {
   "cell_type": "code",
   "execution_count": 4,
   "id": "aa39dfae-3097-434a-8c81-fb458ced3134",
   "metadata": {
    "scrolled": true
   },
   "outputs": [],
   "source": [
    "from datetime import timedelta\n",
    "import os, pandas as pd\n",
    "\n",
    "convo_path = '../MentalHealth/dataset/dataset/sensing/conversation'\n",
    "convo_daily = []\n",
    "\n",
    "for uid in df_stress['uid'].unique():                      \n",
    "    f = f\"{convo_path}/conversation_{uid}.csv\"\n",
    "    if not os.path.exists(f):\n",
    "        continue\n",
    "\n",
    "    df = pd.read_csv(f)\n",
    "\n",
    "    # ----- clean column names -----\n",
    "    df.columns = df.columns.str.strip()                    \n",
    "    df = df.dropna(subset=['start_timestamp', 'end_timestamp'])\n",
    "\n",
    "    df['uid']   = uid\n",
    "    df['start'] = pd.to_datetime(df['start_timestamp'], unit='s')\n",
    "    df['end']   = pd.to_datetime(df['end_timestamp'],   unit='s')\n",
    "    df['duration_min'] = (df['end'] - df['start']).dt.total_seconds() / 60\n",
    "    df['date']  = df['start'].dt.date\n",
    "    df['hour']  = df['start'].dt.hour\n",
    "    df['night'] = df['hour'].between(23, 23) | df['hour'].between(0, 5)\n",
    "\n",
    "    daily = (\n",
    "        df.groupby(['uid', 'date'])\n",
    "          .agg(total_convos      = ('duration_min', 'size'),\n",
    "               total_convo_time  = ('duration_min', 'sum'),\n",
    "               avg_convo_time    = ('duration_min', 'mean'),\n",
    "               night_convos      = ('night', 'sum'))\n",
    "          .reset_index()\n",
    "    )\n",
    "    convo_daily.append(daily)\n",
    "\n",
    "df_convo = pd.concat(convo_daily, ignore_index=True)"
   ]
  },
  {
   "cell_type": "code",
   "execution_count": 5,
   "id": "0e644e63-94d3-4556-a5a7-8b8a7c749b04",
   "metadata": {},
   "outputs": [],
   "source": [
    "dark_path = '../MentalHealth/dataset/dataset/sensing/dark'\n",
    "dark_daily = []\n",
    "\n",
    "for uid in df_stress['uid'].unique():\n",
    "    user_file = f\"{dark_path}/dark_{uid}.csv\"\n",
    "    if not os.path.exists(user_file):\n",
    "        continue\n",
    "\n",
    "    df = pd.read_csv(user_file)\n",
    "    df['uid'] = uid\n",
    "    df['start'] = pd.to_datetime(df['start'], unit='s')\n",
    "    df['end'] = pd.to_datetime(df['end'], unit='s')\n",
    "    df['duration_min'] = (df['end'] - df['start']).dt.total_seconds() / 60\n",
    "    df['date'] = df['start'].dt.date\n",
    "    df['hour'] = df['start'].dt.hour\n",
    "    df['night'] = df['hour'].apply(lambda h: h >= 23 or h < 6)\n",
    "\n",
    "    daily = (\n",
    "        df.groupby(['uid', 'date'])\n",
    "          .agg(total_dark=('duration_min', 'size'),\n",
    "               total_dark_time=('duration_min', 'sum'),\n",
    "               avg_dark_time=('duration_min', 'mean'),\n",
    "               night_dark=('night', 'sum'))\n",
    "          .reset_index()\n",
    "    )\n",
    "    \n",
    "    dark_daily.append(daily)\n",
    "\n",
    "df_dark = pd.concat(dark_daily, ignore_index=True)"
   ]
  },
  {
   "cell_type": "code",
   "execution_count": 6,
   "id": "5aa456f6-f160-43da-bfdf-40818da6ec8d",
   "metadata": {
    "scrolled": true
   },
   "outputs": [],
   "source": [
    "from functools import reduce\n",
    "\n",
    "dfs = [df_stress, df_pl, df_convo, df_dark]\n",
    "df_final = reduce(lambda left, right: pd.merge(left, right, on=['uid', 'date'], how='inner'), dfs)\n",
    "df_final.to_csv('stress_levels.csv', index=False)"
   ]
  },
  {
   "cell_type": "code",
   "execution_count": null,
   "id": "aee19896-04cc-487c-8492-19e143ba2d5e",
   "metadata": {},
   "outputs": [],
   "source": []
  },
  {
   "cell_type": "code",
   "execution_count": null,
   "id": "26af6b97-f4a3-48ee-9db5-2e17b2b1c68d",
   "metadata": {},
   "outputs": [],
   "source": []
  }
 ],
 "metadata": {
  "kernelspec": {
   "display_name": "Python 3.11",
   "language": "python",
   "name": "python3"
  },
  "language_info": {
   "codemirror_mode": {
    "name": "ipython",
    "version": 3
   },
   "file_extension": ".py",
   "mimetype": "text/x-python",
   "name": "python",
   "nbconvert_exporter": "python",
   "pygments_lexer": "ipython3",
   "version": "3.11.9"
  }
 },
 "nbformat": 4,
 "nbformat_minor": 5
}
